{
 "cells": [
  {
   "cell_type": "code",
   "execution_count": 1,
   "metadata": {},
   "outputs": [],
   "source": [
    "import pandas as pd"
   ]
  },
  {
   "cell_type": "code",
   "execution_count": 6,
   "metadata": {},
   "outputs": [
    {
     "name": "stdout",
     "output_type": "stream",
     "text": [
      "(350, 6)\n"
     ]
    },
    {
     "data": {
      "text/html": [
       "<div>\n",
       "<style scoped>\n",
       "    .dataframe tbody tr th:only-of-type {\n",
       "        vertical-align: middle;\n",
       "    }\n",
       "\n",
       "    .dataframe tbody tr th {\n",
       "        vertical-align: top;\n",
       "    }\n",
       "\n",
       "    .dataframe thead th {\n",
       "        text-align: right;\n",
       "    }\n",
       "</style>\n",
       "<table border=\"1\" class=\"dataframe\">\n",
       "  <thead>\n",
       "    <tr style=\"text-align: right;\">\n",
       "      <th></th>\n",
       "      <th>id</th>\n",
       "      <th>certificate_number</th>\n",
       "      <th>fecha_consulta</th>\n",
       "      <th>closure</th>\n",
       "      <th>specialty</th>\n",
       "      <th>placed_by</th>\n",
       "    </tr>\n",
       "  </thead>\n",
       "  <tbody>\n",
       "    <tr>\n",
       "      <th>0</th>\n",
       "      <td>1</td>\n",
       "      <td>40</td>\n",
       "      <td>2024-08-21</td>\n",
       "      <td>{\"dayNote\": {\"consultationObservation\": \"La pa...</td>\n",
       "      <td>general_medicine</td>\n",
       "      <td>286</td>\n",
       "    </tr>\n",
       "    <tr>\n",
       "      <th>1</th>\n",
       "      <td>2</td>\n",
       "      <td>87</td>\n",
       "      <td>2025-02-15</td>\n",
       "      <td>{\"dayNote\": {\"consultationObservation\": \"✅  78...</td>\n",
       "      <td>geriatrics</td>\n",
       "      <td>176</td>\n",
       "    </tr>\n",
       "    <tr>\n",
       "      <th>2</th>\n",
       "      <td>3</td>\n",
       "      <td>42</td>\n",
       "      <td>2025-06-14</td>\n",
       "      <td>{\"dayNote\": {\"consultationObservation\": \"Ficha...</td>\n",
       "      <td>general_medicine</td>\n",
       "      <td>278</td>\n",
       "    </tr>\n",
       "  </tbody>\n",
       "</table>\n",
       "</div>"
      ],
      "text/plain": [
       "   id  certificate_number fecha_consulta  \\\n",
       "0   1                  40     2024-08-21   \n",
       "1   2                  87     2025-02-15   \n",
       "2   3                  42     2025-06-14   \n",
       "\n",
       "                                             closure         specialty  \\\n",
       "0  {\"dayNote\": {\"consultationObservation\": \"La pa...  general_medicine   \n",
       "1  {\"dayNote\": {\"consultationObservation\": \"✅  78...        geriatrics   \n",
       "2  {\"dayNote\": {\"consultationObservation\": \"Ficha...  general_medicine   \n",
       "\n",
       "   placed_by  \n",
       "0        286  \n",
       "1        176  \n",
       "2        278  "
      ]
     },
     "metadata": {},
     "output_type": "display_data"
    }
   ],
   "source": [
    "consultas = pd.read_csv('/home/armando/git/insurance_case/datalake/raw/consultas_dummy.csv', sep=';')\n",
    "print(consultas.shape)\n",
    "display(consultas.head(3))"
   ]
  },
  {
   "cell_type": "code",
   "execution_count": 7,
   "metadata": {},
   "outputs": [
    {
     "name": "stdout",
     "output_type": "stream",
     "text": [
      "{\"dayNote\": {\"consultationObservation\": \"La paciente se encuentra orientada en sus tres esferas y cooperadora, resto de exploración física diferida por video consulta.\", \"nextConsultationPending\": \"Mujer de la séptima década de la vida con los antecedentes ya mencionados, refiere adecuado seguimiento con médicos por antecedentes, se realiza estudios periódicamente. Durante la consulta se realizó llenado de historia clínica y se compartió información sobre vacuna contra neumococo. Se comparte también infografía que hacer en caso de emergencia. \\nLa paciente refiere ocasionalmente dolores a nivel gastrointestinal así como articulares relacionados a fibromialgia, ya se descartaron causas orgánicas. Se sugiere realizar ESI el cual acepta. \\nAgendar consulta posterior a ESI.\", \"needsPrescriptionOrMedicalOrder\": \"none\"}, \"patientGoal\": \"Iniciar seguimiento médico\", \"specialistGoal\": \"Llenado de HC, plan de seguimiento\", \"patientDiagnoses\": [{\"patientDiagnose\": 4917}], \"pauseConsultations\": \"no\"}\n"
     ]
    }
   ],
   "source": [
    "print(consultas.loc[0, 'closure'])"
   ]
  },
  {
   "cell_type": "code",
   "execution_count": null,
   "metadata": {},
   "outputs": [],
   "source": [
    "import pandas as pd\n",
    "import json\n",
    "\n",
    "def get_field(x, field):\n",
    "\n",
    "    result = None\n",
    "\n",
    "    if field in ['consultationObservation', 'nextConsultationPending', 'needsPrescriptionOrMedicalOrder']:\n",
    "        if not 'dayNote' in x.keys():\n",
    "            return result\n",
    "        \n",
    "        if x['dayNote'] == []:\n",
    "            return result\n",
    "\n",
    "        if not field in x['dayNote'].keys():\n",
    "            return result\n",
    "            \n",
    "        result = x['dayNote'][field]\n",
    "\n",
    "    elif field in ['patientGoal', 'specialistGoal', 'pauseConsultations']:\n",
    "\n",
    "        if not field in x.keys():\n",
    "            return result\n",
    "            \n",
    "        result = x[field]\n",
    "\n",
    "    return result"
   ]
  },
  {
   "cell_type": "code",
   "execution_count": null,
   "metadata": {},
   "outputs": [],
   "source": [
    "    consultations = dbt.ref('consultas_dummy').to_pandas()\n",
    "\n",
    "    #consultations = pd.read_csv('/home/armando/git/insurance_case/datalake/raw/consultas_dummy.csv', sep=';')\n",
    "    consultations['closure'] = consultations['closure'].apply(lambda x: json.loads(x))\n",
    "    consultations['day_note_consultation_observation'] = consultations['closure'].apply(lambda x: get_field(x, 'consultationObservation'))\n",
    "    consultations['day_note_next_consultation_pending'] = consultations['closure'].apply(lambda x: get_field(x, 'nextConsultationPending'))\n",
    "    consultations['day_note_needs_prescription_or_medical_order'] = consultations['closure'].apply(lambda x: get_field(x, 'needsPrescriptionOrMedicalOrder'))\n",
    "    consultations['patiend_goal'] = consultations['closure'].apply(lambda x: get_field(x, 'patientGoal'))\n",
    "    consultations['specialist_goal'] = consultations['closure'].apply(lambda x: get_field(x, 'specialistGoal'))\n",
    "    consultations['pause_consultations'] = consultations['closure'].apply(lambda x: get_field(x, 'pauseConsultations'))\n",
    "\n",
    "    consultations = consultations.drop(columns=['closure'])\n",
    "\n",
    "    # Return the final Pandas DataFrame\n",
    "    return consultations"
   ]
  }
 ],
 "metadata": {
  "kernelspec": {
   "display_name": "Python 3 (ipykernel)",
   "language": "python",
   "name": "python3"
  },
  "language_info": {
   "codemirror_mode": {
    "name": "ipython",
    "version": 3
   },
   "file_extension": ".py",
   "mimetype": "text/x-python",
   "name": "python",
   "nbconvert_exporter": "python",
   "pygments_lexer": "ipython3",
   "version": "3.12.3"
  }
 },
 "nbformat": 4,
 "nbformat_minor": 2
}
