{
 "cells": [
  {
   "cell_type": "code",
   "execution_count": 1,
   "metadata": {},
   "outputs": [
    {
     "name": "stderr",
     "output_type": "stream",
     "text": [
      "/home/armando/ambientes_python/ambiente_ai/lib/python3.12/site-packages/fuzzywuzzy/fuzz.py:11: UserWarning: Using slow pure-python SequenceMatcher. Install python-Levenshtein to remove this warning\n",
      "  warnings.warn('Using slow pure-python SequenceMatcher. Install python-Levenshtein to remove this warning')\n"
     ]
    }
   ],
   "source": [
    "import pandas as pd"
   ]
  },
  {
   "cell_type": "code",
   "execution_count": 15,
   "metadata": {},
   "outputs": [
    {
     "name": "stdout",
     "output_type": "stream",
     "text": [
      "12423\n",
      "12420\n",
      "(12423, 2)\n"
     ]
    },
    {
     "data": {
      "text/html": [
       "<div>\n",
       "<style scoped>\n",
       "    .dataframe tbody tr th:only-of-type {\n",
       "        vertical-align: middle;\n",
       "    }\n",
       "\n",
       "    .dataframe tbody tr th {\n",
       "        vertical-align: top;\n",
       "    }\n",
       "\n",
       "    .dataframe thead th {\n",
       "        text-align: right;\n",
       "    }\n",
       "</style>\n",
       "<table border=\"1\" class=\"dataframe\">\n",
       "  <thead>\n",
       "    <tr style=\"text-align: right;\">\n",
       "      <th></th>\n",
       "      <th>pathology_code</th>\n",
       "      <th>pathology_name</th>\n",
       "    </tr>\n",
       "  </thead>\n",
       "  <tbody>\n",
       "    <tr>\n",
       "      <th>0</th>\n",
       "      <td>A000</td>\n",
       "      <td>COLERA DEBIDO A VIBRIO CHOLERAE O1, BIOTIPO CH...</td>\n",
       "    </tr>\n",
       "    <tr>\n",
       "      <th>1</th>\n",
       "      <td>A001</td>\n",
       "      <td>COLERA DEBIDO A VIBRIO CHOLERAE O1, BIOTIPO EL...</td>\n",
       "    </tr>\n",
       "    <tr>\n",
       "      <th>2</th>\n",
       "      <td>A009</td>\n",
       "      <td>COLERA NO ESPECIFICADO</td>\n",
       "    </tr>\n",
       "  </tbody>\n",
       "</table>\n",
       "</div>"
      ],
      "text/plain": [
       "  pathology_code                                     pathology_name\n",
       "0           A000  COLERA DEBIDO A VIBRIO CHOLERAE O1, BIOTIPO CH...\n",
       "1           A001  COLERA DEBIDO A VIBRIO CHOLERAE O1, BIOTIPO EL...\n",
       "2           A009                             COLERA NO ESPECIFICADO"
      ]
     },
     "metadata": {},
     "output_type": "display_data"
    }
   ],
   "source": [
    "pathologies = pd.read_csv('/home/armando/git/insurance_case/datalake/raw/pathologies.csv')\n",
    "pathologies = pathologies[['code', 'name']]\n",
    "pathologies.columns = ['pathology_code', 'pathology_name']\n",
    "print(pathologies['pathology_code'].nunique())\n",
    "print(pathologies['pathology_name'].nunique())\n",
    "print(pathologies.shape)\n",
    "display(pathologies.head(3))"
   ]
  },
  {
   "cell_type": "code",
   "execution_count": 12,
   "metadata": {},
   "outputs": [
    {
     "name": "stdout",
     "output_type": "stream",
     "text": [
      "(14498, 2)\n",
      "14498\n",
      "14479\n"
     ]
    },
    {
     "data": {
      "text/html": [
       "<div>\n",
       "<style scoped>\n",
       "    .dataframe tbody tr th:only-of-type {\n",
       "        vertical-align: middle;\n",
       "    }\n",
       "\n",
       "    .dataframe tbody tr th {\n",
       "        vertical-align: top;\n",
       "    }\n",
       "\n",
       "    .dataframe thead th {\n",
       "        text-align: right;\n",
       "    }\n",
       "</style>\n",
       "<table border=\"1\" class=\"dataframe\">\n",
       "  <thead>\n",
       "    <tr style=\"text-align: right;\">\n",
       "      <th></th>\n",
       "      <th>cie_code</th>\n",
       "      <th>cie_name</th>\n",
       "    </tr>\n",
       "  </thead>\n",
       "  <tbody>\n",
       "    <tr>\n",
       "      <th>0</th>\n",
       "      <td>A00</td>\n",
       "      <td>CÓLERA</td>\n",
       "    </tr>\n",
       "    <tr>\n",
       "      <th>1</th>\n",
       "      <td>A000</td>\n",
       "      <td>CÓLERA DEBIDO A VIBRIO CHOLERAE 01, BIOTIPO CH...</td>\n",
       "    </tr>\n",
       "    <tr>\n",
       "      <th>2</th>\n",
       "      <td>A001</td>\n",
       "      <td>CÓLERA DEBIDO A VIBRIO CHOLERAE 01, BIOTIPO EL...</td>\n",
       "    </tr>\n",
       "  </tbody>\n",
       "</table>\n",
       "</div>"
      ],
      "text/plain": [
       "  cie_code                                           cie_name\n",
       "0      A00                                             CÓLERA\n",
       "1     A000  CÓLERA DEBIDO A VIBRIO CHOLERAE 01, BIOTIPO CH...\n",
       "2     A001  CÓLERA DEBIDO A VIBRIO CHOLERAE 01, BIOTIPO EL..."
      ]
     },
     "metadata": {},
     "output_type": "display_data"
    }
   ],
   "source": [
    "cie_10 = pd.read_csv('/home/armando/git/insurance_case/datalake/raw/DIAGNOSTICOS_20240416.csv', usecols=['CATALOG_KEY', 'NOMBRE'])\n",
    "\n",
    "cie_10 = cie_10[['CATALOG_KEY', 'NOMBRE']].drop_duplicates()\n",
    "print(cie_10.shape)\n",
    "print(cie_10['CATALOG_KEY'].nunique())\n",
    "print(cie_10['NOMBRE'].nunique())\n",
    "\n",
    "cie_10.columns = ['cie_code', 'cie_name']\n",
    "display(cie_10.head(3))"
   ]
  },
  {
   "cell_type": "code",
   "execution_count": 19,
   "metadata": {},
   "outputs": [],
   "source": [
    "cie_10.to_csv('/home/armando/git/insurance_case/datalake/preprocessed/cat_cie_10.csv', index=False)"
   ]
  },
  {
   "cell_type": "code",
   "execution_count": null,
   "metadata": {},
   "outputs": [],
   "source": []
  }
 ],
 "metadata": {
  "kernelspec": {
   "display_name": "Python 3 (ipykernel)",
   "language": "python",
   "name": "python3"
  },
  "language_info": {
   "codemirror_mode": {
    "name": "ipython",
    "version": 3
   },
   "file_extension": ".py",
   "mimetype": "text/x-python",
   "name": "python",
   "nbconvert_exporter": "python",
   "pygments_lexer": "ipython3",
   "version": "3.12.3"
  }
 },
 "nbformat": 4,
 "nbformat_minor": 2
}
